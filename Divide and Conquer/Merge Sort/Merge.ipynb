{
 "cells": [
  {
   "cell_type": "markdown",
   "metadata": {},
   "source": [
    "# Merge\n",
    "\n",
    "Merge is a process of combining two sorted list into single sorted list."
   ]
  },
  {
   "cell_type": "code",
   "execution_count": 30,
   "metadata": {},
   "outputs": [],
   "source": [
    "A = [2, 8, 15, 18]\n",
    "B = [5, 9, 12, 17, 23, 45, 51]"
   ]
  },
  {
   "cell_type": "code",
   "execution_count": 31,
   "metadata": {},
   "outputs": [],
   "source": [
    "def merge(A, B):\n",
    "    n = len(A)\n",
    "    m = len(B)\n",
    "    i = 0\n",
    "    j = 0\n",
    "    k = 0\n",
    "    C = [-1]*(n+m)\n",
    "    \n",
    "    while ((i < n) and (j < m)):\n",
    "        if A[i] < B[j]:\n",
    "            C[k] = A[i]\n",
    "            k+=1\n",
    "            i+=1\n",
    "        else:\n",
    "            C[k] = B[j]\n",
    "            k+=1\n",
    "            j+=1\n",
    "            \n",
    "    while i<n:\n",
    "        C[k] = A[i]\n",
    "        k+=1\n",
    "        i+=1\n",
    "    \n",
    "    while j<m:\n",
    "        C[k] = B[j]\n",
    "        k+=1\n",
    "        j+=1\n",
    "        \n",
    "    return C           "
   ]
  },
  {
   "cell_type": "code",
   "execution_count": 32,
   "metadata": {},
   "outputs": [
    {
     "data": {
      "text/plain": [
       "[2, 8, 15, 18]"
      ]
     },
     "execution_count": 32,
     "metadata": {},
     "output_type": "execute_result"
    }
   ],
   "source": [
    "A"
   ]
  },
  {
   "cell_type": "code",
   "execution_count": 33,
   "metadata": {},
   "outputs": [
    {
     "data": {
      "text/plain": [
       "[5, 9, 12, 17, 23, 45, 51]"
      ]
     },
     "execution_count": 33,
     "metadata": {},
     "output_type": "execute_result"
    }
   ],
   "source": [
    "B"
   ]
  },
  {
   "cell_type": "code",
   "execution_count": 34,
   "metadata": {},
   "outputs": [
    {
     "data": {
      "text/plain": [
       "[2, 5, 8, 9, 12, 15, 17, 18, 23, 45, 51]"
      ]
     },
     "execution_count": 34,
     "metadata": {},
     "output_type": "execute_result"
    }
   ],
   "source": [
    "merge(A, B)"
   ]
  },
  {
   "cell_type": "code",
   "execution_count": null,
   "metadata": {},
   "outputs": [],
   "source": []
  }
 ],
 "metadata": {
  "kernelspec": {
   "display_name": "Python 3",
   "language": "python",
   "name": "python3"
  },
  "language_info": {
   "codemirror_mode": {
    "name": "ipython",
    "version": 3
   },
   "file_extension": ".py",
   "mimetype": "text/x-python",
   "name": "python",
   "nbconvert_exporter": "python",
   "pygments_lexer": "ipython3",
   "version": "3.7.1"
  }
 },
 "nbformat": 4,
 "nbformat_minor": 2
}
