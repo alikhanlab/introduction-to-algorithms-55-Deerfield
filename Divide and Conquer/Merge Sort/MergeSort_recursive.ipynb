{
 "cells": [
  {
   "cell_type": "markdown",
   "metadata": {},
   "source": [
    "# MergeSort Recursive\n",
    "\n",
    "## Logic\n",
    "In MergeSort, the list is divided by half, until it reaches single element (if single element == sorted list), and start mergeing. \n",
    "\n",
    "## Pros:\n",
    "- 1. Can handle large lists.\n",
    "   - Because we can merge two chunks(chunk of original lists) first, then remove from memory and go to the next  chunks.\n",
    "- 2. Linked Lists. Can sort linked lists with no extra space.\n",
    "- 3. Supports External Sorting.(Data do not fir in RAM).\n",
    "- 4. Stable.\n",
    "    - In case of duplicates, preserve original order.\n",
    "    - Why we need it. For example two students receive the same score on test. Ravil scored 8, and Sunil scored 8. And when we sort by name and score. Original name sort should be preserved. So Ravil score 8 comes first, then Sunil score 8. (not Sunil score 8, and Ravil score 8). Order of duplicate score matters.\n",
    "    \n",
    "    \n",
    "## Cons:\n",
    "- 1. Extra Space. (not in space).\n",
    "- 2. No small problem. (slow in small lists).\n",
    "- 3. Recursive.\n",
    "    -  Recursion uses recursive stack to save running results, so here it needs O(logn) stack space."
   ]
  },
  {
   "cell_type": "code",
   "execution_count": 126,
   "metadata": {},
   "outputs": [],
   "source": [
    "def merge(arr, l, m, r):\n",
    "    print('Arrays to be Merged: ', arr[l:m+1], arr[m+1:r+1])\n",
    "    n1 = m - l + 1\n",
    "    n2 = r- m \n",
    "  \n",
    "    # create temp arrays \n",
    "    L = [0] * (n1) \n",
    "    R = [0] * (n2) \n",
    "  \n",
    "    for i in range(0 , n1): \n",
    "        L[i] = arr[l + i] \n",
    "  \n",
    "    for j in range(0 , n2): \n",
    "        R[j] = arr[m + 1 + j] \n",
    "  \n",
    "    i = 0     \n",
    "    j = 0     \n",
    "    k = l    \n",
    "  \n",
    "    while i < n1 and j < n2 : \n",
    "        if L[i] <= R[j]: \n",
    "            arr[k] = L[i] \n",
    "            i += 1\n",
    "        else: \n",
    "            arr[k] = R[j] \n",
    "            j += 1\n",
    "        k += 1\n",
    "\n",
    "    while i < n1: \n",
    "        arr[k] = L[i] \n",
    "        i += 1\n",
    "        k += 1\n",
    "  \n",
    "    while j < n2: \n",
    "        arr[k] = R[j] \n",
    "        j += 1\n",
    "        k += 1\n",
    "        \n",
    "    print('Arrays after Merge: ', arr[l:m+1] + arr[m+1:r+1])\n",
    "    print('-----------------------------------------------')\n",
    "        \n",
    "def mergeSort(A, l, h):\n",
    "     if l < h:\n",
    "        mid = (l+h)//2\n",
    "        mergeSort(A, l, mid)\n",
    "        mergeSort(A, mid+1, h)\n",
    "        merge(A, l, mid, h)"
   ]
  },
  {
   "cell_type": "code",
   "execution_count": 127,
   "metadata": {},
   "outputs": [],
   "source": [
    "A = [9, 3, 7, 5, 6, 4, 8, 2]"
   ]
  },
  {
   "cell_type": "code",
   "execution_count": 128,
   "metadata": {},
   "outputs": [
    {
     "name": "stdout",
     "output_type": "stream",
     "text": [
      "Arrays to be Merged:  [9] [3]\n",
      "Arrays after Merge:  [3, 9]\n",
      "-----------------------------------------------\n",
      "Arrays to be Merged:  [7] [5]\n",
      "Arrays after Merge:  [5, 7]\n",
      "-----------------------------------------------\n",
      "Arrays to be Merged:  [3, 9] [5, 7]\n",
      "Arrays after Merge:  [3, 5, 7, 9]\n",
      "-----------------------------------------------\n",
      "Arrays to be Merged:  [6] [4]\n",
      "Arrays after Merge:  [4, 6]\n",
      "-----------------------------------------------\n",
      "Arrays to be Merged:  [8] [2]\n",
      "Arrays after Merge:  [2, 8]\n",
      "-----------------------------------------------\n",
      "Arrays to be Merged:  [4, 6] [2, 8]\n",
      "Arrays after Merge:  [2, 4, 6, 8]\n",
      "-----------------------------------------------\n",
      "Arrays to be Merged:  [3, 5, 7, 9] [2, 4, 6, 8]\n",
      "Arrays after Merge:  [2, 3, 4, 5, 6, 7, 8, 9]\n",
      "-----------------------------------------------\n"
     ]
    }
   ],
   "source": [
    "mergeSort(A, 0, len(A)-1)"
   ]
  },
  {
   "cell_type": "code",
   "execution_count": 129,
   "metadata": {},
   "outputs": [
    {
     "data": {
      "text/plain": [
       "[2, 3, 4, 5, 6, 7, 8, 9]"
      ]
     },
     "execution_count": 129,
     "metadata": {},
     "output_type": "execute_result"
    }
   ],
   "source": [
    "A"
   ]
  }
 ],
 "metadata": {
  "kernelspec": {
   "display_name": "Python 3",
   "language": "python",
   "name": "python3"
  },
  "language_info": {
   "codemirror_mode": {
    "name": "ipython",
    "version": 3
   },
   "file_extension": ".py",
   "mimetype": "text/x-python",
   "name": "python",
   "nbconvert_exporter": "python",
   "pygments_lexer": "ipython3",
   "version": "3.7.1"
  }
 },
 "nbformat": 4,
 "nbformat_minor": 2
}
