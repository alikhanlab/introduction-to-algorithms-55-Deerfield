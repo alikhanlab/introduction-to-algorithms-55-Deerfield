{
 "cells": [
  {
   "cell_type": "markdown",
   "metadata": {},
   "source": [
    "# 2-way MergeSort\n",
    "\n",
    "Assume each element in a list is a list itself. If single element it's already sorted. Then just merge `n` number of lists using 2-way merge. `n` is number of elements on a list."
   ]
  },
  {
   "cell_type": "code",
   "execution_count": 26,
   "metadata": {},
   "outputs": [],
   "source": [
    "A = [9, 3, 7, 5, 6, 4, 8, 2]"
   ]
  },
  {
   "cell_type": "code",
   "execution_count": 27,
   "metadata": {},
   "outputs": [],
   "source": [
    "def merge(A, B):\n",
    "    n = len(A)\n",
    "    m = len(B)\n",
    "    i = 0\n",
    "    j = 0\n",
    "    k = 0\n",
    "    C = [-1]*(n+m)\n",
    "    \n",
    "    while ((i < n) and (j < m)):\n",
    "        if A[i] < B[j]:\n",
    "            C[k] = A[i]\n",
    "            k+=1\n",
    "            i+=1\n",
    "        else:\n",
    "            C[k] = B[j]\n",
    "            k+=1\n",
    "            j+=1\n",
    "            \n",
    "    while i<n:\n",
    "        C[k] = A[i]\n",
    "        k+=1\n",
    "        i+=1\n",
    "    \n",
    "    while j<m:\n",
    "        C[k] = B[j]\n",
    "        k+=1\n",
    "        j+=1\n",
    "        \n",
    "    return C\n",
    "\n",
    "def two_way_mergeSort(A):\n",
    "    '''\n",
    "    Need to implement iterative merge sort\n",
    "    '''\n",
    "    pass"
   ]
  },
  {
   "cell_type": "code",
   "execution_count": null,
   "metadata": {},
   "outputs": [],
   "source": []
  }
 ],
 "metadata": {
  "kernelspec": {
   "display_name": "Python 3",
   "language": "python",
   "name": "python3"
  },
  "language_info": {
   "codemirror_mode": {
    "name": "ipython",
    "version": 3
   },
   "file_extension": ".py",
   "mimetype": "text/x-python",
   "name": "python",
   "nbconvert_exporter": "python",
   "pygments_lexer": "ipython3",
   "version": "3.7.1"
  }
 },
 "nbformat": 4,
 "nbformat_minor": 2
}
