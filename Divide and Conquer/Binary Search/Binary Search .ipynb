{
 "cells": [
  {
   "cell_type": "markdown",
   "metadata": {},
   "source": [
    "# Binary Search \n",
    "\n",
    "## !Prerequisite for Binary Search: Array should be sorted\n",
    "\n",
    "## Algorithm\n",
    "\n",
    "On sorted array, choose `l = 0`(index at the beginning of array) and `h=n-1`(index at the last element of array). Calculate `mid = floor((l+h)/2)`. Check if  `A[mid]` is equal to key(searching value). If it is located on the right side of the array (means `key > A[mid]`), then `l=mid+1`. And calculate mid and search again. If it is located on the left side (`key < A[mid]`), then `h=mid-1`. And calculate mid and search again.\n",
    "\n",
    "## Time complexity\n",
    "\n",
    "`O(logn)` - for worst and average case. \n",
    "`O(1)` - for best case."
   ]
  },
  {
   "cell_type": "code",
   "execution_count": 11,
   "metadata": {},
   "outputs": [],
   "source": [
    "A = [3, 6, 8, 12, 14, 17, 25, 29, 31, 36, 42, 47, 53, 55, 62]\n",
    "n = len(A)"
   ]
  },
  {
   "cell_type": "markdown",
   "metadata": {},
   "source": [
    "# Iterative Solution"
   ]
  },
  {
   "cell_type": "code",
   "execution_count": 15,
   "metadata": {},
   "outputs": [],
   "source": [
    "def binary_search(A, n, key):\n",
    "    # O(logn)\n",
    "    l = 0\n",
    "    h = n-1\n",
    "    while l <= h:\n",
    "        mid = (l+h)//2\n",
    "        if (key == A[mid]):\n",
    "            return mid\n",
    "        if (key < A[mid]):\n",
    "            h = mid-1\n",
    "        else:\n",
    "            l = mid+1\n",
    "    return -1"
   ]
  },
  {
   "cell_type": "code",
   "execution_count": 16,
   "metadata": {},
   "outputs": [
    {
     "data": {
      "text/plain": [
       "14"
      ]
     },
     "execution_count": 16,
     "metadata": {},
     "output_type": "execute_result"
    }
   ],
   "source": [
    "binary_search(A, n, 62)"
   ]
  },
  {
   "cell_type": "code",
   "execution_count": 17,
   "metadata": {},
   "outputs": [
    {
     "data": {
      "text/plain": [
       "-1"
      ]
     },
     "execution_count": 17,
     "metadata": {},
     "output_type": "execute_result"
    }
   ],
   "source": [
    "binary_search(A, n, 10000)"
   ]
  },
  {
   "cell_type": "markdown",
   "metadata": {},
   "source": [
    "# Recursive Solution"
   ]
  },
  {
   "cell_type": "code",
   "execution_count": 32,
   "metadata": {},
   "outputs": [],
   "source": [
    "def r_binary_search(l, h, key, A):\n",
    "    # O(logn)\n",
    "    if l == h:\n",
    "        if (A[l] == key):\n",
    "            return l\n",
    "        else:\n",
    "            return -1\n",
    "    else:\n",
    "        mid = (l+h)//2\n",
    "        if (key == A[mid]):\n",
    "            return mid\n",
    "        if (key < A[mid]):\n",
    "            return r_binary_search(l, mid-1, key, A)\n",
    "        else:\n",
    "            return r_binary_search(mid+1, h, key, A)"
   ]
  },
  {
   "cell_type": "code",
   "execution_count": 33,
   "metadata": {},
   "outputs": [
    {
     "data": {
      "text/plain": [
       "14"
      ]
     },
     "execution_count": 33,
     "metadata": {},
     "output_type": "execute_result"
    }
   ],
   "source": [
    "l = 0\n",
    "h = n-1\n",
    "r_binary_search(l, h, 62, A)"
   ]
  },
  {
   "cell_type": "code",
   "execution_count": 34,
   "metadata": {},
   "outputs": [
    {
     "data": {
      "text/plain": [
       "3"
      ]
     },
     "execution_count": 34,
     "metadata": {},
     "output_type": "execute_result"
    }
   ],
   "source": [
    "r_binary_search(l=0, h=n-1, key=12, A=A)"
   ]
  },
  {
   "cell_type": "code",
   "execution_count": 35,
   "metadata": {},
   "outputs": [
    {
     "data": {
      "text/plain": [
       "1"
      ]
     },
     "execution_count": 35,
     "metadata": {},
     "output_type": "execute_result"
    }
   ],
   "source": [
    "r_binary_search(l=0, h=n-1, key=6, A=A)"
   ]
  },
  {
   "cell_type": "code",
   "execution_count": 36,
   "metadata": {},
   "outputs": [
    {
     "data": {
      "text/plain": [
       "-1"
      ]
     },
     "execution_count": 36,
     "metadata": {},
     "output_type": "execute_result"
    }
   ],
   "source": [
    "r_binary_search(l=0, h=n-1, key=600, A=A)"
   ]
  },
  {
   "cell_type": "code",
   "execution_count": null,
   "metadata": {},
   "outputs": [],
   "source": []
  }
 ],
 "metadata": {
  "kernelspec": {
   "display_name": "Python 3",
   "language": "python",
   "name": "python3"
  },
  "language_info": {
   "codemirror_mode": {
    "name": "ipython",
    "version": 3
   },
   "file_extension": ".py",
   "mimetype": "text/x-python",
   "name": "python",
   "nbconvert_exporter": "python",
   "pygments_lexer": "ipython3",
   "version": "3.7.1"
  }
 },
 "nbformat": 4,
 "nbformat_minor": 2
}
