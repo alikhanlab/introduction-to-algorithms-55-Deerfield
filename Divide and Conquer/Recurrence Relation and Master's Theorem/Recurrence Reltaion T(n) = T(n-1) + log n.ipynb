{
 "cells": [
  {
   "cell_type": "code",
   "execution_count": 3,
   "metadata": {},
   "outputs": [],
   "source": [
    "def test(n):\n",
    "    if n > 0:\n",
    "        i = 1\n",
    "        while i < n:\n",
    "            i = i*2\n",
    "            print(n)\n",
    "        print('#####')\n",
    "        test(n-1)"
   ]
  },
  {
   "cell_type": "code",
   "execution_count": 8,
   "metadata": {},
   "outputs": [],
   "source": [
    "def test1(n):\n",
    "    if n > 0:\n",
    "        for i in range(n):\n",
    "            print(i)\n",
    "            print(n)\n",
    "            i = i*2\n",
    "        print('####')\n",
    "        test1(n-1)"
   ]
  },
  {
   "cell_type": "code",
   "execution_count": 4,
   "metadata": {},
   "outputs": [
    {
     "name": "stdout",
     "output_type": "stream",
     "text": [
      "4\n",
      "4\n",
      "#####\n",
      "3\n",
      "3\n",
      "#####\n",
      "2\n",
      "#####\n",
      "#####\n"
     ]
    }
   ],
   "source": [
    "test(4)"
   ]
  },
  {
   "cell_type": "code",
   "execution_count": null,
   "metadata": {},
   "outputs": [],
   "source": []
  }
 ],
 "metadata": {
  "kernelspec": {
   "display_name": "Python 3",
   "language": "python",
   "name": "python3"
  },
  "language_info": {
   "codemirror_mode": {
    "name": "ipython",
    "version": 3
   },
   "file_extension": ".py",
   "mimetype": "text/x-python",
   "name": "python",
   "nbconvert_exporter": "python",
   "pygments_lexer": "ipython3",
   "version": "3.7.1"
  }
 },
 "nbformat": 4,
 "nbformat_minor": 2
}
