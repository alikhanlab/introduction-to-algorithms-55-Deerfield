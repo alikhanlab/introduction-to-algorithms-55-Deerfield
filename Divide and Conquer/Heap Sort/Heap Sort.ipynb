{
 "cells": [
  {
   "cell_type": "markdown",
   "metadata": {},
   "source": [
    "# Array Representation of Binary Tree\n",
    "\n",
    "- If a node is at index = `i`\n",
    "- It's left child is at `2*i`\n",
    "- It's right child is at `2*i+1`\n",
    "- It's parent at `i//2`\n",
    "\n",
    "\n",
    "# Heap\n",
    "\n",
    "Heap is a complete Binary Tree and in Max Heap or Min Heap condition should met.\n",
    "\n",
    "- Complete Binary Tree. Is a Full Binary Tree (Binary Tree with Maximum number of Nodes) up to `Hight - 1`.\n",
    "\n",
    "- Max Heap. Every Parent is greater than its descendants(children). Root is Max Value.\n",
    "\n",
    "- Min Heap. Every Parent is less than its descendants(children). Root is Min Value. \n",
    "\n",
    "# HeapSort\n",
    "\n",
    "Time complexity: `O(nlogn)`\n",
    "\n",
    "Completed in 2 steps:\n",
    "\n",
    "1. Create a heap using heapify. `O(n)`\n",
    "\n",
    "2. Delete elements. When deleteing max(min) element taken, and we continue deleteing element, next deleteing element value will be less(bigger) than previous. If we delete all values one by one, and save just deleted value on array, at the end array will be sorted. `O(nlogn)`.\n",
    "\n",
    "Total time complexity: O(n) + O(nlogn) = O(nlogn)\n",
    "\n"
   ]
  },
  {
   "cell_type": "code",
   "execution_count": 17,
   "metadata": {},
   "outputs": [],
   "source": [
    "def heapify(arr, n, i):\n",
    "    root = i\n",
    "    left_child = 2*i\n",
    "    right_child = 2*i+1\n",
    "    \n",
    "    if (left_child < n) and (arr[left_child] > arr[root]):\n",
    "        root = left_child\n",
    "    \n",
    "    if (right_child < n) and (arr[right_child] > arr[root]):\n",
    "        root = right_child\n",
    "        \n",
    "    if root != i:\n",
    "        arr[i], arr[root] = arr[root], arr[i]\n",
    "        \n",
    "        heapify(arr, n, root)\n",
    "\n",
    "def heapSort(arr):\n",
    "    n = len(arr)\n",
    "    \n",
    "    # Step 1. Create a heap, using heapify\n",
    "    for i in range(n, -1, -1):\n",
    "        heapify(arr, n, i)\n",
    "    \n",
    "    # Step 2. Remove elements one by one, and store deleted element at the end.\n",
    "    for i in range(n-1, -1, -1):\n",
    "        arr[i], arr[0] = arr[0], arr[i]\n",
    "        heapify(arr, i, 0)\n",
    "        \n",
    "    return arr"
   ]
  },
  {
   "cell_type": "code",
   "execution_count": 26,
   "metadata": {},
   "outputs": [],
   "source": [
    "arr = [10, 20, 15, 12, 40, 25, 18, 20, 126, -10]"
   ]
  },
  {
   "cell_type": "code",
   "execution_count": 27,
   "metadata": {},
   "outputs": [
    {
     "data": {
      "text/plain": [
       "[-10, 10, 12, 15, 18, 20, 20, 25, 40, 126]"
      ]
     },
     "execution_count": 27,
     "metadata": {},
     "output_type": "execute_result"
    }
   ],
   "source": [
    "heapSort(arr)"
   ]
  },
  {
   "cell_type": "code",
   "execution_count": null,
   "metadata": {},
   "outputs": [],
   "source": []
  }
 ],
 "metadata": {
  "kernelspec": {
   "display_name": "Python 3",
   "language": "python",
   "name": "python3"
  },
  "language_info": {
   "codemirror_mode": {
    "name": "ipython",
    "version": 3
   },
   "file_extension": ".py",
   "mimetype": "text/x-python",
   "name": "python",
   "nbconvert_exporter": "python",
   "pygments_lexer": "ipython3",
   "version": "3.7.1"
  }
 },
 "nbformat": 4,
 "nbformat_minor": 2
}
