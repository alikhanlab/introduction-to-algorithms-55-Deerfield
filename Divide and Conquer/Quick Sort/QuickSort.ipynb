{
 "cells": [
  {
   "cell_type": "markdown",
   "metadata": {},
   "source": [
    "# QuickSort\n",
    "\n",
    "\n",
    "Pick a pivot element at random(or first element or middle element), and partition given array around pivot, so that elements of left side is less than pivot, and elements on right side of the pivot is bigger than pivot. Then call recursively for both side. Position of pivot after partition will be in the right place (sorted).\n",
    "\n",
    "## Time Compelxity\n",
    "\n",
    "- BestCase: `O(nlogn)`\n",
    "- WorstCase: `O(n^2)`, but rarely happens, if we input already sorted array.\n",
    "- AverageCase: `O(nlogn)`\n",
    "\n",
    "`No extra space usage.`"
   ]
  },
  {
   "cell_type": "code",
   "execution_count": 1,
   "metadata": {},
   "outputs": [],
   "source": [
    "A = [10, 16, 8, 12, 15, 6, 3, 9, 5]"
   ]
  },
  {
   "cell_type": "code",
   "execution_count": 2,
   "metadata": {},
   "outputs": [],
   "source": [
    "import math"
   ]
  },
  {
   "cell_type": "code",
   "execution_count": 3,
   "metadata": {},
   "outputs": [],
   "source": [
    "import random"
   ]
  },
  {
   "cell_type": "code",
   "execution_count": 61,
   "metadata": {},
   "outputs": [
    {
     "data": {
      "text/plain": [
       "1"
      ]
     },
     "execution_count": 61,
     "metadata": {},
     "output_type": "execute_result"
    }
   ],
   "source": [
    "random.randrange(0, 2)"
   ]
  },
  {
   "cell_type": "code",
   "execution_count": 16,
   "metadata": {},
   "outputs": [],
   "source": [
    "# def partition(A, l, h):\n",
    "# #     rand_index = random.randrange(l, h)\n",
    "#     rand_index = l\n",
    "#     pivot = A[rand_index]\n",
    "#     i = 0\n",
    "#     j = h\n",
    "#     while (i < j):\n",
    "#         while (A[i] <= pivot):\n",
    "#             i+=1\n",
    "#         while (A[j] > pivot):\n",
    "#             j-=1\n",
    "#         if (i < j):\n",
    "#             A[i], A[j] = A[j], A[i]\n",
    "#     A[l], A[j] = A[j], A[l]\n",
    "#     return j\n",
    "\n",
    "def partition(arr,low,high): \n",
    "    i = ( low-1 )         # index of smaller element \n",
    "    pivot = arr[high]     # pivot \n",
    "  \n",
    "    for j in range(low , high): \n",
    "  \n",
    "        # If current element is smaller than the pivot \n",
    "        if   arr[j] < pivot: \n",
    "          \n",
    "            # increment index of smaller element \n",
    "            i = i+1 \n",
    "            arr[i],arr[j] = arr[j],arr[i] \n",
    "  \n",
    "    arr[i+1],arr[high] = arr[high],arr[i+1] \n",
    "    return ( i+1 ) \n",
    "\n",
    "def quickSort(A, l, h):\n",
    "    if (l < h):\n",
    "        j = partition(A, l, h)\n",
    "        quickSort(A, l, j-1)\n",
    "        quickSort(A, j+1, h)"
   ]
  },
  {
   "cell_type": "code",
   "execution_count": 17,
   "metadata": {},
   "outputs": [],
   "source": [
    "A = [9, 16, 8, 12, 15, 6, 3, 10, 5, 3, 5, 200, 13, -9, 401, 1, 401]\n",
    "l = 0\n",
    "h = len(A)-1"
   ]
  },
  {
   "cell_type": "code",
   "execution_count": 18,
   "metadata": {},
   "outputs": [
    {
     "data": {
      "text/plain": [
       "[9, 16, 8, 12, 15, 6, 3, 10, 5, 3, 5, 200, 13, -9, 401, 1, 401]"
      ]
     },
     "execution_count": 18,
     "metadata": {},
     "output_type": "execute_result"
    }
   ],
   "source": [
    "A"
   ]
  },
  {
   "cell_type": "code",
   "execution_count": 19,
   "metadata": {},
   "outputs": [],
   "source": [
    "quickSort(A, l, h)"
   ]
  },
  {
   "cell_type": "code",
   "execution_count": 20,
   "metadata": {},
   "outputs": [
    {
     "data": {
      "text/plain": [
       "[-9, 1, 3, 3, 5, 5, 6, 8, 9, 10, 12, 13, 15, 16, 200, 401, 401]"
      ]
     },
     "execution_count": 20,
     "metadata": {},
     "output_type": "execute_result"
    }
   ],
   "source": [
    "A"
   ]
  }
 ],
 "metadata": {
  "kernelspec": {
   "display_name": "Python 3",
   "language": "python",
   "name": "python3"
  },
  "language_info": {
   "codemirror_mode": {
    "name": "ipython",
    "version": 3
   },
   "file_extension": ".py",
   "mimetype": "text/x-python",
   "name": "python",
   "nbconvert_exporter": "python",
   "pygments_lexer": "ipython3",
   "version": "3.7.1"
  }
 },
 "nbformat": 4,
 "nbformat_minor": 2
}
