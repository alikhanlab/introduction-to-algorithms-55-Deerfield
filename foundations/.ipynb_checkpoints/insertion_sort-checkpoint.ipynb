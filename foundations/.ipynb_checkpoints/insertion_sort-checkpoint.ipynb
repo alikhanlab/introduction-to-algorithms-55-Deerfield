{
 "cells": [
  {
   "cell_type": "markdown",
   "metadata": {},
   "source": [
    "# Insertion sort\n",
    "\n",
    "\n",
    "Iinsertion sort, which is an `efficient algorithm for sorting a small\n",
    "number` of elements. Insertion sort works the way many people sort a hand of\n",
    "playing cards. We start with an empty left hand and the cards face down on the\n",
    "table. We then remove one card at a time from the table and insert it into the\n",
    "correct position in the left hand. To find the correct position for a card, we compare\n",
    "it with each of the cards already in the hand, from right to left, as illustrated in\n",
    "Figure 2.1. At all times, the cards held in the left hand are sorted, and these cards\n",
    "were originally the top cards of the pile on the table.\n",
    "\n",
    "\n",
    "\n",
    "![insertion_sort1.png](../images/insertion_sort1.png)\n",
    "\n",
    "\n",
    "\n",
    "![insertion_sort_pc.png](../images/insertion_sort_pc.png)"
   ]
  },
  {
   "cell_type": "code",
   "execution_count": 36,
   "metadata": {},
   "outputs": [],
   "source": [
    "def insertion_sort(A):\n",
    "    for j in range(1, len(A)):\n",
    "        key = A[j]\n",
    "        i = j - 1\n",
    "        while (i >= 0) and (A[i] > key):\n",
    "            A[i+1] = A[i]\n",
    "            i -=1\n",
    "        A[i+1] = key\n",
    "    return A"
   ]
  },
  {
   "cell_type": "code",
   "execution_count": 39,
   "metadata": {},
   "outputs": [],
   "source": [
    "A = [5,2,4,6,1,3]"
   ]
  },
  {
   "cell_type": "code",
   "execution_count": 40,
   "metadata": {},
   "outputs": [
    {
     "data": {
      "text/plain": [
       "[1, 2, 3, 4, 5, 6]"
      ]
     },
     "execution_count": 40,
     "metadata": {},
     "output_type": "execute_result"
    }
   ],
   "source": [
    "insertion_sort(A)"
   ]
  },
  {
   "cell_type": "code",
   "execution_count": null,
   "metadata": {},
   "outputs": [],
   "source": []
  }
 ],
 "metadata": {
  "kernelspec": {
   "display_name": "Python 3",
   "language": "python",
   "name": "python3"
  },
  "language_info": {
   "codemirror_mode": {
    "name": "ipython",
    "version": 3
   },
   "file_extension": ".py",
   "mimetype": "text/x-python",
   "name": "python",
   "nbconvert_exporter": "python",
   "pygments_lexer": "ipython3",
   "version": "3.7.1"
  }
 },
 "nbformat": 4,
 "nbformat_minor": 2
}
