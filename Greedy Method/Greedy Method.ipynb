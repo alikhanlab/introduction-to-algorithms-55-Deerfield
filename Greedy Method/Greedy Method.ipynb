{
 "cells": [
  {
   "cell_type": "markdown",
   "metadata": {},
   "source": [
    "# Greedy Method"
   ]
  },
  {
   "cell_type": "markdown",
   "metadata": {},
   "source": [
    "We start from the example, say you want to travel from A to B with minimum cost, and you have a constraint to travel in 12 hrs or less.\n",
    "\n",
    "\n",
    "There are 4 options:\n",
    "\n",
    "- S1 - walking, travel_time = 29 hrs, cost = 10 dollars\n",
    "- S2 - bike, travel_time = 20 hrs, cost = 25 dollars\n",
    "- S3 - moto bike, travel time = 18 hrs, cost = 45 dollars\n",
    "- S4 - train, travel_time = 11 hrs, cost = 55 dollars\n",
    "- S5 - plain, travel_time = 4 hrs, cost = 85 dollars\n",
    "\n",
    "\n",
    "Which one to choose ? In way it minimizes cost and satisfies constraint.\n",
    "\n",
    "`Feasible solution` - solution that satisfies constraint (less than 12 hrs). Here feasible solution = {S4, S5}, because both of them satisfies travel time constarint. \n",
    "\n",
    "`Optimal solution` - solution that achieving objective of a problem. Here optimal solution = {S4}. It's feasible solution + minimizes the cost of travelling. Optimal solution can only be 1 solution.\n",
    "\n",
    "\n",
    "This type of problem considered as `Optimization Problem`(maximize or minimize). \n",
    "Can be solved using:\n",
    "- 1. Greedy Method\n",
    "- 2. Dynamic Programming\n",
    "- 3. Branch and Bound\n",
    "\n",
    "`Greedy Method` solution should be achieved in stages, picking best local optimal and moving to the next one. "
   ]
  },
  {
   "cell_type": "code",
   "execution_count": null,
   "metadata": {},
   "outputs": [],
   "source": []
  }
 ],
 "metadata": {
  "kernelspec": {
   "display_name": "Python 3",
   "language": "python",
   "name": "python3"
  },
  "language_info": {
   "codemirror_mode": {
    "name": "ipython",
    "version": 3
   },
   "file_extension": ".py",
   "mimetype": "text/x-python",
   "name": "python",
   "nbconvert_exporter": "python",
   "pygments_lexer": "ipython3",
   "version": "3.7.1"
  }
 },
 "nbformat": 4,
 "nbformat_minor": 2
}
