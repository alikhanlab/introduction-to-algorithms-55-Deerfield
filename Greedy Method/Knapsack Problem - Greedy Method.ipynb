{
 "cells": [
  {
   "cell_type": "markdown",
   "metadata": {},
   "source": [
    "# Knapsack Problem (0<=x<=1), fractional knapsack\n",
    "\n",
    "Items in knapsack can be in fractions like 1/3 of bananas. "
   ]
  },
  {
   "cell_type": "markdown",
   "metadata": {},
   "source": [
    "Given knapsack with `m` capacity, fill knapsack with items (fractional items) so that the profit is mazimized. Total weight of knapsack cannot exceed `m`. Rounding 4 digits after decimal is ok."
   ]
  },
  {
   "cell_type": "code",
   "execution_count": 3,
   "metadata": {},
   "outputs": [],
   "source": [
    "# Number of items to choose from\n",
    "n = 7\n",
    "\n",
    "# Capacity of knapsack\n",
    "m = 15\n",
    "\n",
    "# Items profits\n",
    "n_profits = [10, 5, 15, 7, 6, 18, 3]\n",
    "\n",
    "# Items weights\n",
    "n_weights = [2, 3, 5, 7, 1, 4, 1]"
   ]
  },
  {
   "cell_type": "code",
   "execution_count": 23,
   "metadata": {},
   "outputs": [],
   "source": [
    "def maximize_profit_knapsack(m, n, n_profits, n_weights):\n",
    "    n_pw = []\n",
    "    for i in range(n):\n",
    "        pw = round(n_profits[i]/n_weights[i], 4)\n",
    "        n_pw.append((i,pw))\n",
    "    n_pw_sorted = sorted(n_pw, key = lambda x: -x[1])\n",
    "    max_profit = 0\n",
    "    while m > 0:\n",
    "        for item, profit in n_pw_sorted:\n",
    "            print('Knapsack cap. before: ', m)\n",
    "            weight = n_weights[item]\n",
    "            profit = n_profits[item]\n",
    "            k = 0\n",
    "            if (m-weight) >= 0:\n",
    "                k = 1\n",
    "            else:\n",
    "                k = m/weight\n",
    "            m -= k*weight\n",
    "            print('Knapsack cap. after: ', m)\n",
    "            print('-------------------------')\n",
    "            max_profit += k*profit\n",
    "    return max_profit"
   ]
  },
  {
   "cell_type": "code",
   "execution_count": 24,
   "metadata": {},
   "outputs": [
    {
     "name": "stdout",
     "output_type": "stream",
     "text": [
      "Knapsack cap. before:  15\n",
      "Knapsack cap. after:  14\n",
      "-------------------------\n",
      "Knapsack cap. before:  14\n",
      "Knapsack cap. after:  12\n",
      "-------------------------\n",
      "Knapsack cap. before:  12\n",
      "Knapsack cap. after:  8\n",
      "-------------------------\n",
      "Knapsack cap. before:  8\n",
      "Knapsack cap. after:  3\n",
      "-------------------------\n",
      "Knapsack cap. before:  3\n",
      "Knapsack cap. after:  2\n",
      "-------------------------\n",
      "Knapsack cap. before:  2\n",
      "Knapsack cap. after:  0.0\n",
      "-------------------------\n",
      "Knapsack cap. before:  0.0\n",
      "Knapsack cap. after:  0.0\n",
      "-------------------------\n"
     ]
    },
    {
     "data": {
      "text/plain": [
       "55.333333333333336"
      ]
     },
     "execution_count": 24,
     "metadata": {},
     "output_type": "execute_result"
    }
   ],
   "source": [
    "maximize_profit_knapsack(m,n, n_profits, n_weights)"
   ]
  },
  {
   "cell_type": "code",
   "execution_count": 25,
   "metadata": {},
   "outputs": [],
   "source": [
    "# Items as (value, weight) pairs \n",
    "# arr[] = {{60, 10}, {100, 20}, {120, 30}} \n",
    "# Knapsack Capacity, W = 50; \n",
    "\n",
    "# Maximum possible value = 240 \n",
    "\n",
    "m1 = 50\n",
    "n1 = 3\n",
    "n1_profits = [60, 100, 120]\n",
    "n1_weights = [10, 20, 30]"
   ]
  },
  {
   "cell_type": "code",
   "execution_count": 26,
   "metadata": {},
   "outputs": [
    {
     "name": "stdout",
     "output_type": "stream",
     "text": [
      "Knapsack cap. before:  50\n",
      "Knapsack cap. after:  40\n",
      "-------------------------\n",
      "Knapsack cap. before:  40\n",
      "Knapsack cap. after:  20\n",
      "-------------------------\n",
      "Knapsack cap. before:  20\n",
      "Knapsack cap. after:  0.0\n",
      "-------------------------\n"
     ]
    },
    {
     "data": {
      "text/plain": [
       "240.0"
      ]
     },
     "execution_count": 26,
     "metadata": {},
     "output_type": "execute_result"
    }
   ],
   "source": [
    "maximize_profit_knapsack(m1, n1, n1_profits, n1_weights)"
   ]
  },
  {
   "cell_type": "code",
   "execution_count": null,
   "metadata": {},
   "outputs": [],
   "source": []
  }
 ],
 "metadata": {
  "kernelspec": {
   "display_name": "Python 3",
   "language": "python",
   "name": "python3"
  },
  "language_info": {
   "codemirror_mode": {
    "name": "ipython",
    "version": 3
   },
   "file_extension": ".py",
   "mimetype": "text/x-python",
   "name": "python",
   "nbconvert_exporter": "python",
   "pygments_lexer": "ipython3",
   "version": "3.7.1"
  }
 },
 "nbformat": 4,
 "nbformat_minor": 2
}
