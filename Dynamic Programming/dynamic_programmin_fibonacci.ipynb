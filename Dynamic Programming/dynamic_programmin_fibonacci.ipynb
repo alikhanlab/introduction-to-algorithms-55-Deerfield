{
 "cells": [
  {
   "cell_type": "markdown",
   "metadata": {},
   "source": [
    "# Dynamic Programming\n",
    "\n",
    "Used for optimization problems. Problems solved by principle of optimality.\n",
    "\n",
    "Principle of optimality - Problems can be solved by sequence of decisions to get optimal solution."
   ]
  },
  {
   "cell_type": "code",
   "execution_count": 1,
   "metadata": {},
   "outputs": [],
   "source": [
    "# Fibonacci Sequence Problem\n",
    "\n",
    "# Fibonacci Sequence: 0, 1, 1, 2, 3, 5, 8, 13..\n",
    "# Fibonacci N:        0, 1, 2, 3, 4, 5, 6, 7.."
   ]
  },
  {
   "cell_type": "code",
   "execution_count": 4,
   "metadata": {},
   "outputs": [],
   "source": [
    "# O(2^n)\n",
    "def fib(n):\n",
    "    if (n<=1):\n",
    "        return n\n",
    "    return fib(n-2)+fib(n-1)"
   ]
  },
  {
   "cell_type": "code",
   "execution_count": 8,
   "metadata": {},
   "outputs": [
    {
     "data": {
      "text/plain": [
       "55"
      ]
     },
     "execution_count": 8,
     "metadata": {},
     "output_type": "execute_result"
    }
   ],
   "source": [
    "fib(10)"
   ]
  },
  {
   "cell_type": "markdown",
   "metadata": {},
   "source": [
    "So, O(2^n) is exponencial order of growth, we can reduced to O(n) using memoization and tabulation methods."
   ]
  },
  {
   "cell_type": "markdown",
   "metadata": {},
   "source": [
    "Memoization\n",
    "\n",
    "Storing results of function calls.\n",
    "\n",
    "Top down approach"
   ]
  },
  {
   "cell_type": "code",
   "execution_count": 60,
   "metadata": {},
   "outputs": [],
   "source": [
    "def fib_mem(n):\n",
    "    res = [-1]*(n+1)\n",
    "    res[0] = 0\n",
    "    res[1] = 1\n",
    "    helper_fib(n, res)\n",
    "    return res[n]\n",
    "\n",
    "def helper_fib(n, res):\n",
    "    if res[n] != -1:\n",
    "        return res[n]\n",
    "    else:\n",
    "        n_fib = helper_fib(n-2, res) + helper_fib(n-1, res)\n",
    "        res[n] = n_fib\n",
    "        return res[n]"
   ]
  },
  {
   "cell_type": "code",
   "execution_count": 61,
   "metadata": {},
   "outputs": [
    {
     "data": {
      "text/plain": [
       "5"
      ]
     },
     "execution_count": 61,
     "metadata": {},
     "output_type": "execute_result"
    }
   ],
   "source": [
    "fib_mem(5)"
   ]
  },
  {
   "cell_type": "markdown",
   "metadata": {},
   "source": [
    "Tabulation method\n",
    "\n",
    "Is a bottom up approach"
   ]
  },
  {
   "cell_type": "code",
   "execution_count": 62,
   "metadata": {},
   "outputs": [],
   "source": [
    "def fib_tab(n):\n",
    "    if (n<=1):\n",
    "        return n\n",
    "    fib_arr = [-1]*(n+1)\n",
    "    fib_arr[0] = 0\n",
    "    fib_arr[1] = 1\n",
    "    for i in range(2, len(fib_arr)):\n",
    "        fib_arr[i] = fib_arr[i-2]+fib_arr[i-1]\n",
    "    return fib_arr[n]"
   ]
  },
  {
   "cell_type": "code",
   "execution_count": 63,
   "metadata": {},
   "outputs": [
    {
     "data": {
      "text/plain": [
       "55"
      ]
     },
     "execution_count": 63,
     "metadata": {},
     "output_type": "execute_result"
    }
   ],
   "source": [
    "fib_tab(10)"
   ]
  },
  {
   "cell_type": "code",
   "execution_count": null,
   "metadata": {},
   "outputs": [],
   "source": []
  }
 ],
 "metadata": {
  "kernelspec": {
   "display_name": "Python 3",
   "language": "python",
   "name": "python3"
  },
  "language_info": {
   "codemirror_mode": {
    "name": "ipython",
    "version": 3
   },
   "file_extension": ".py",
   "mimetype": "text/x-python",
   "name": "python",
   "nbconvert_exporter": "python",
   "pygments_lexer": "ipython3",
   "version": "3.7.1"
  }
 },
 "nbformat": 4,
 "nbformat_minor": 2
}
